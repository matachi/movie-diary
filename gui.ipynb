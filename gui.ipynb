{
 "cells": [
  {
   "cell_type": "markdown",
   "metadata": {},
   "source": [
    "# Ratings & watchlist\n",
    "\n",
    "Import the ratings:"
   ]
  },
  {
   "cell_type": "code",
   "execution_count": 1,
   "metadata": {
    "collapsed": false
   },
   "outputs": [],
   "source": [
    "import csv\n",
    "from datetime import datetime\n",
    "\n",
    "\n",
    "class Record:\n",
    "    def __init__(self, date, title, year, rating5, rating10, imdb_url):\n",
    "        self.date = datetime.strptime(date, '%Y-%m-%d')\n",
    "        self.title = title\n",
    "        self.year = int(year)\n",
    "        self.rating5 = int(rating5) if rating5.isdigit() else None\n",
    "        self.rating10 = int(rating10) if rating10.isdigit() else None\n",
    "        self.imdb_url = imdb_url\n",
    "    \n",
    "    def __str__(self):\n",
    "        return '{} ({})'.format(self.title, self.year)\n",
    "\n",
    "\n",
    "with open('ratings.csv', newline='') as f:\n",
    "    records = list(map(lambda r: Record(*r), list(csv.reader(f))[1:]))"
   ]
  },
  {
   "cell_type": "markdown",
   "metadata": {},
   "source": [
    "Most recently watched movies:"
   ]
  },
  {
   "cell_type": "code",
   "execution_count": 2,
   "metadata": {
    "collapsed": false
   },
   "outputs": [
    {
     "name": "stdout",
     "output_type": "stream",
     "text": [
      "Sun Sep 10 2017, Dear John (2010), 2/5\n",
      "Sat Sep 09 2017, Me Before You (2016), 4/5\n",
      "Sat Sep 09 2017, Alena (2016), 2/5\n",
      "Fri Sep 08 2017, Morran & Tobias - Som en skänk från ovan (2016), 3/5\n",
      "Wed Sep 06 2017, Bridesmaids (2011), 1/5\n",
      "Tue Sep 05 2017, Passengers (2016), 3/5\n",
      "Tue Sep 05 2017, Hacksaw Ridge (2016), 5/5\n",
      "Sun Sep 03 2017, Train to Busan (2016), 3/5\n",
      "Sat Sep 02 2017, Ragnarok (2013), 2/5\n",
      "Sun Aug 27 2017, Into the White (2012), 5/5\n"
     ]
    }
   ],
   "source": [
    "for record in list(sorted(records, key=lambda r: r.date, reverse=True))[:10]:\n",
    "    print('{}, {}, {}/5'.format(record.date.strftime('%a %b %d %Y'), record, record.rating5))"
   ]
  },
  {
   "cell_type": "markdown",
   "metadata": {},
   "source": [
    "Top rated movies:"
   ]
  },
  {
   "cell_type": "code",
   "execution_count": 3,
   "metadata": {
    "collapsed": false
   },
   "outputs": [
    {
     "name": "stdout",
     "output_type": "stream",
     "text": [
      "5/5, Hacksaw Ridge (2016)\n",
      "5/5, Into the White (2012)\n",
      "5/5, The Big Short (2015)\n",
      "5/5, Rogue One (2016)\n",
      "5/5, The Good, the Bad and the Ugly (1966)\n",
      "5/5, The Hateful Eight (2015)\n",
      "5/5, Another Earth (2011)\n",
      "5/5, Kingsman: The Secret Service (2014)\n",
      "5/5, Star Wars: The Force Awakens (2015)\n",
      "5/5, Forrest Gump (1994)\n",
      "5/5, Brooklyn (2015)\n",
      "5/5, Kill Bill: Vol. 2 (2004)\n",
      "5/5, Kill Bill: Vol. 1 (2003)\n",
      "5/5, Inside Out (2015)\n",
      "5/5, Interstellar (2014)\n",
      "5/5, Whiplash (2014)\n",
      "5/5, Drive (2011)\n",
      "5/5, The Reunion (2013)\n",
      "5/5, Nightcrawler (2014)\n",
      "5/5, Fury (2014)\n",
      "5/5, Chef (2014)\n",
      "5/5, Predestination (2014)\n",
      "5/5, Black Mirror (2011)\n",
      "5/5, Gone Girl (2014)\n",
      "5/5, Dredd (2012)\n",
      "5/5, Edge of Tomorrow (2014)\n",
      "5/5, Easy Money (2010)\n",
      "5/5, Princess Mononoke (1997)\n",
      "5/5, Gravity (2013)\n",
      "5/5, The Social Network (2010)\n",
      "5/5, Fight Club (1999)\n",
      "5/5, Inception (2010)\n",
      "5/5, Firefly (2002)\n",
      "5/5, Cloud Atlas (2012)\n",
      "5/5, Twelve Monkeys (1995)\n",
      "5/5, Ghost in the Shell (1995)\n"
     ]
    }
   ],
   "source": [
    "for record in sorted(filter(lambda r: r.rating5 >= 5, records), key=lambda r: r.rating5, reverse=True):\n",
    "    print('{}/5, {}'.format(record.rating5, record))"
   ]
  }
 ],
 "metadata": {
  "kernelspec": {
   "display_name": "Python 3",
   "language": "python",
   "name": "python3"
  },
  "language_info": {
   "codemirror_mode": {
    "name": "ipython",
    "version": 3
   },
   "file_extension": ".py",
   "mimetype": "text/x-python",
   "name": "python",
   "nbconvert_exporter": "python",
   "pygments_lexer": "ipython3",
   "version": "3.5.3"
  }
 },
 "nbformat": 4,
 "nbformat_minor": 0
}
