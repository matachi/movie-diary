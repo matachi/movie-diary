{
 "cells": [
  {
   "cell_type": "markdown",
   "metadata": {},
   "source": [
    "# Ratings & watchlist\n",
    "\n",
    "Import the ratings:"
   ]
  },
  {
   "cell_type": "code",
   "execution_count": 1,
   "metadata": {
    "collapsed": false
   },
   "outputs": [],
   "source": [
    "import csv\n",
    "from datetime import datetime\n",
    "\n",
    "\n",
    "class Record:\n",
    "    def __init__(self, date, title, year, rating5, rating10, imdb_url):\n",
    "        self.date = datetime.strptime(date, '%Y-%m-%d')\n",
    "        self.title = title\n",
    "        self.year = int(year)\n",
    "        self.rating5 = int(rating5) if rating5.isdigit() else None\n",
    "        self.rating10 = int(rating10) if rating10.isdigit() else None\n",
    "        self.imdb_url = imdb_url\n",
    "    \n",
    "    def __str__(self):\n",
    "        return '{} ({})'.format(self.title, self.year)\n",
    "\n",
    "\n",
    "with open('ratings.csv', newline='') as f:\n",
    "    records = list(map(lambda r: Record(*r), list(csv.reader(f))[1:]))"
   ]
  },
  {
   "cell_type": "markdown",
   "metadata": {},
   "source": [
    "Most recently watched movies:"
   ]
  },
  {
   "cell_type": "code",
   "execution_count": 2,
   "metadata": {
    "collapsed": false
   },
   "outputs": [
    {
     "name": "stdout",
     "output_type": "stream",
     "text": [
      "Sun Aug 20 2017, Ocean's Twelve (2004), 2/5\n",
      "Sat Aug 19 2017, Joy (2015), 3/5\n",
      "Wed Aug 16 2017, The Big Short (2015), 5/5\n",
      "Sun Aug 13 2017, The Girl on the Train (2016), 1/5\n",
      "Sat Aug 12 2017, Before Sunrise (1995), 4/5\n",
      "Sat Aug 12 2017, Rogue One (2016), 5/5\n",
      "Fri Aug 11 2017, Swiss Army Man (2016), 1/5\n",
      "Thu Aug 10 2017, Ocean's Eleven (2001), 3/5\n",
      "Tue Aug 08 2017, The Princess Bride (1987), 4/5\n",
      "Tue Aug 08 2017, Logan (2017), 2/5\n"
     ]
    }
   ],
   "source": [
    "for record in list(sorted(records, key=lambda r: r.date, reverse=True))[:10]:\n",
    "    print('{}, {}, {}/5'.format(record.date.strftime('%a %b %d %Y'), record, record.rating5))"
   ]
  },
  {
   "cell_type": "markdown",
   "metadata": {},
   "source": [
    "Top rated movies:"
   ]
  },
  {
   "cell_type": "code",
   "execution_count": 3,
   "metadata": {
    "collapsed": false
   },
   "outputs": [
    {
     "name": "stdout",
     "output_type": "stream",
     "text": [
      "5/5, The Big Short (2015)\n",
      "5/5, Rogue One (2016)\n",
      "5/5, The Good, the Bad and the Ugly (1966)\n",
      "5/5, The Hateful Eight (2015)\n",
      "5/5, Another Earth (2011)\n",
      "5/5, Kingsman: The Secret Service (2014)\n",
      "5/5, Star Wars: The Force Awakens (2015)\n",
      "5/5, Forrest Gump (1994)\n",
      "5/5, Brooklyn (2015)\n",
      "5/5, Kill Bill: Vol. 2 (2004)\n",
      "5/5, Kill Bill: Vol. 1 (2003)\n",
      "5/5, Inside Out (2015)\n",
      "5/5, Interstellar (2014)\n",
      "5/5, Whiplash (2014)\n",
      "5/5, Drive (2011)\n",
      "5/5, The Reunion (2013)\n",
      "5/5, Nightcrawler (2014)\n",
      "5/5, Fury (2014)\n",
      "5/5, Chef (2014)\n",
      "5/5, Predestination (2014)\n",
      "5/5, Black Mirror (2011)\n",
      "5/5, Gone Girl (2014)\n",
      "5/5, Dredd (2012)\n",
      "5/5, Edge of Tomorrow (2014)\n",
      "5/5, Easy Money (2010)\n",
      "5/5, Princess Mononoke (1997)\n",
      "5/5, Gravity (2013)\n",
      "5/5, The Social Network (2010)\n",
      "5/5, Fight Club (1999)\n",
      "5/5, Inception (2010)\n",
      "5/5, Firefly (2002)\n",
      "5/5, Cloud Atlas (2012)\n",
      "5/5, Twelve Monkeys (1995)\n",
      "5/5, Ghost in the Shell (1995)\n"
     ]
    }
   ],
   "source": [
    "for record in sorted(filter(lambda r: r.rating5 >= 5, records), key=lambda r: r.rating5, reverse=True):\n",
    "    print('{}/5, {}'.format(record.rating5, record))"
   ]
  }
 ],
 "metadata": {
  "kernelspec": {
   "display_name": "Python 3",
   "language": "python",
   "name": "python3"
  },
  "language_info": {
   "codemirror_mode": {
    "name": "ipython",
    "version": 3
   },
   "file_extension": ".py",
   "mimetype": "text/x-python",
   "name": "python",
   "nbconvert_exporter": "python",
   "pygments_lexer": "ipython3",
   "version": "3.5.3"
  }
 },
 "nbformat": 4,
 "nbformat_minor": 0
}
