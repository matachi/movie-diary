{
 "cells": [
  {
   "cell_type": "markdown",
   "metadata": {},
   "source": [
    "# Ratings & watchlist\n",
    "\n",
    "Import the ratings:"
   ]
  },
  {
   "cell_type": "code",
   "execution_count": 1,
   "metadata": {
    "collapsed": false
   },
   "outputs": [],
   "source": [
    "import csv\n",
    "\n",
    "\n",
    "class Record:\n",
    "    def __init__(self, date, title, rating, year, imdb_url):\n",
    "        self.date = date\n",
    "        self.title = title\n",
    "        self.rating = int(rating)\n",
    "        self.year = int(year)\n",
    "        self.imdb_url = imdb_url\n",
    "    \n",
    "    def __str__(self):\n",
    "        return '{} ({})'.format(self.title, self.year)\n",
    "\n",
    "\n",
    "with open('ratings.csv', newline='') as f:\n",
    "    records = list(map(lambda r: Record(*r), list(csv.reader(f))[1:]))"
   ]
  },
  {
   "cell_type": "markdown",
   "metadata": {},
   "source": [
    "Top rated movies:"
   ]
  },
  {
   "cell_type": "code",
   "execution_count": 2,
   "metadata": {
    "collapsed": false
   },
   "outputs": [
    {
     "name": "stdout",
     "output_type": "stream",
     "text": [
      "Forrest Gump (1994)\n",
      "Clinton Cash (2016)\n",
      "Short Term 12 (2013)\n",
      "Brooklyn (2015)\n",
      "The Avengers (2012)\n",
      "Iron Man (2008)\n",
      "Saving Private Ryan (1998)\n",
      "Ex Machina (2015)\n",
      "Band of Brothers (2001)\n",
      "The Martian (2015)\n",
      "The American Scream (2012)\n",
      "The Shawshank Redemption (1994)\n",
      "Inside Out (2015)\n",
      "The Departed (2006)\n",
      "Terminator 2: Judgment Day (1991)\n",
      "After the Dark (2013)\n",
      "Mad Max: Fury Road (2015)\n",
      "Interstellar (2014)\n",
      "Whiplash (2014)\n",
      "Drive (2011)\n",
      "Shutter Island (2010)\n",
      "Kung Fury (2015)\n",
      "Breaking Bad (2008)\n",
      "Better Call Saul (2015)\n",
      "The Reunion (2013)\n",
      "Nightcrawler (2014)\n",
      "Fury (2014)\n",
      "Citizenfour (2014)\n",
      "Chef (2014)\n",
      "Predestination (2014)\n",
      "Black Mirror (2011)\n",
      "Gone Girl (2014)\n",
      "Dallas Buyers Club (2013)\n",
      "Children of Men (2006)\n",
      "The Hunger Games: Catching Fire (2013)\n",
      "Edge of Tomorrow (2014)\n",
      "Easy Money (2010)\n",
      "Atlas Shrugged II: The Strike (2012)\n",
      "Atlas Shrugged: Part I (2011)\n",
      "Spirited Away (2001)\n",
      "Princess Mononoke (1997)\n",
      "Memento (2000)\n",
      "Oculus (2013)\n",
      "Gravity (2013)\n",
      "Fringe (2008)\n",
      "Ghost in the Shell: Stand Alone Complex (2002)\n",
      "Vikings (2013)\n",
      "The Social Network (2010)\n",
      "Game of Thrones (2011)\n",
      "Fight Club (1999)\n",
      "Inception (2010)\n",
      "Firefly (2002)\n",
      "Cloud Atlas (2012)\n",
      "Twelve Monkeys (1995)\n",
      "Hanna (2011)\n",
      "Ghost in the Shell (1995)\n"
     ]
    }
   ],
   "source": [
    "for record in filter(lambda r: r.rating >= 9, records):\n",
    "    print(record)"
   ]
  }
 ],
 "metadata": {
  "kernelspec": {
   "display_name": "Python 3",
   "language": "python",
   "name": "python3"
  },
  "language_info": {
   "codemirror_mode": {
    "name": "ipython",
    "version": 3
   },
   "file_extension": ".py",
   "mimetype": "text/x-python",
   "name": "python",
   "nbconvert_exporter": "python",
   "pygments_lexer": "ipython3",
   "version": "3.5.1"
  }
 },
 "nbformat": 4,
 "nbformat_minor": 1
}
